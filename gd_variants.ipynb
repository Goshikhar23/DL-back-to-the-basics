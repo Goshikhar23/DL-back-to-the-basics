{
  "nbformat": 4,
  "nbformat_minor": 0,
  "metadata": {
    "colab": {
      "name": "gd_variants.ipynb",
      "provenance": [],
      "authorship_tag": "ABX9TyOzkec433pWR8rVP66p2Su3",
      "include_colab_link": true
    },
    "kernelspec": {
      "name": "python3",
      "display_name": "Python 3"
    }
  },
  "cells": [
    {
      "cell_type": "markdown",
      "metadata": {
        "id": "view-in-github",
        "colab_type": "text"
      },
      "source": [
        "<a href=\"https://colab.research.google.com/github/Goshikhar23/DL-back-to-the-basics/blob/master/gd_variants.ipynb\" target=\"_parent\"><img src=\"https://colab.research.google.com/assets/colab-badge.svg\" alt=\"Open In Colab\"/></a>"
      ]
    },
    {
      "cell_type": "markdown",
      "metadata": {
        "id": "9miR4ARZ59gE",
        "colab_type": "text"
      },
      "source": [
        "# Setup"
      ]
    },
    {
      "cell_type": "code",
      "metadata": {
        "id": "caxEgIKE5zVv",
        "colab_type": "code",
        "colab": {}
      },
      "source": [
        "import matplotlib.pyplot as plt\n",
        "import numpy as np\n",
        "import matplotlib.colors\n",
        "\n",
        "from matplotlib import animation, rc, cm\n",
        "from IPython.display import HTML\n",
        "\n",
        "from mpl_toolkits.mplot3d import Axes3D"
      ],
      "execution_count": null,
      "outputs": []
    },
    {
      "cell_type": "markdown",
      "metadata": {
        "id": "rXLEKeqp6tIN",
        "colab_type": "text"
      },
      "source": [
        "# SN class"
      ]
    },
    {
      "cell_type": "code",
      "metadata": {
        "id": "IrolQTVx6iJ1",
        "colab_type": "code",
        "colab": {}
      },
      "source": [
        "class SN():\n",
        "\n",
        "  def __init__(self, w_init, b_init, algo):     # For different w_init and b_init we want to plot different converging points\n",
        "    self.w = w_init\n",
        "    self.b = b_init\n",
        "    self.w_h = []\n",
        "    self.b_h = []     # History\n",
        "    self.e_h = []\n",
        "    self.algo = algo\n",
        "\n",
        "  def sigmoid(self, x, w=None, b=None):\n",
        "    if w is None:\n",
        "      w = self.w\n",
        "    if b is None:\n",
        "      b = self.b\n",
        "    return 1/(1+np.exp(-(w*x+b)))\n",
        "\n",
        "  def error(self, X, Y, w=None, b=None):\n",
        "    if w is None:\n",
        "      w = self.w\n",
        "    if b is None:\n",
        "      b = self.b\n",
        "    err = 0\n",
        "    for x, y in zip(X, Y):\n",
        "      err+= 0.5 * (self.sigmoid(x, w, b) - y) ** 2\n",
        "    return err\n",
        "  \n",
        "  def grad_w(self, x, y, w=None, b=None):\n",
        "    if w is None:\n",
        "      w = self.w\n",
        "    if b is None:\n",
        "      b = self.b\n",
        "    y_pred = self.sigmoid(x, w, b)\n",
        "    return (y_pred - y) * y_pred * (1 - y_pred) * x\n",
        "  \n",
        "  def grad_b(self, x, y, w=None, b=None):\n",
        "    if w is None:\n",
        "      w = self.w\n",
        "    if b is None:\n",
        "      b = self.b\n",
        "    y_pred = self.sigmoid(x, w, b)\n",
        "    return (y_pred - y) * y_pred * (1 - y_pred) \n",
        "\n",
        "  def fit(self, X, Y, epochs=100, eta=0.01, gamma=0.9, mini_batch_size=100, eps=1e-8, beta=0.9, beta1=0.9, beta2=0.9):\n",
        "    self.w_h = []\n",
        "    self.b_h = []     \n",
        "    self.e_h = []\n",
        "    self.X = X\n",
        "    self.Y = Y\n",
        "\n",
        "    if self.algo == 'GD':\n",
        "      for i in range(epochs):\n",
        "        dw, db = 0,0\n",
        "        for x, y in zip(X, Y):\n",
        "          dw += self.grad_w(x, y)\n",
        "          db += self.grad_b(x, y)\n",
        "        self.w -= eta * dw / X.shape[0]\n",
        "        self.b -= eta * db / X.shape[0]\n",
        "        self.append_log()\n",
        "      \n",
        "    elif self.algo == \"Momentum\":\n",
        "      v_w_prev, v_b_prev = 0, 0\n",
        "      for i in range(epochs):\n",
        "        dw, db = 0,0\n",
        "        for x, y in zip(X, Y):\n",
        "          dw += self.grad_w(x, y)\n",
        "          db += self.grad_b(x, y)\n",
        "        # Different update\n",
        "        v_w = gamma * v_w_prev + eta * dw\n",
        "        v_b = gamma * v_b_prev + eta * db\n",
        "        self.w = self.w - v_w\n",
        "        self.b = self.b - v_b\n",
        "        v_w_prev = v_w\n",
        "        v_b_prev = v_b\n",
        "        self.append_log()\n",
        "\n",
        "    elif self.algo == 'NAG':\n",
        "      v_w_prev, v_b_prev = 0, 0\n",
        "      for i in range(epochs):\n",
        "        dw, db = 0,0\n",
        "        v_w = gamma * v_w_prev\n",
        "        v_b = gamma * v_b_prev\n",
        "        \n",
        "        for x, y in zip(X, Y):\n",
        "          dw += self.grad_w(x, y, self.w - v_w, self.b - v_b)\n",
        "          db += self.grad_b(x, y, self.w - v_w, self.b - v_b)\n",
        "        \n",
        "        v_w = gamma * v_w_prev + eta * dw\n",
        "        v_b = gamma * v_b_prev + eta * db\n",
        "        self.w = self.w - v_w\n",
        "        self.b = self.b - v_b\n",
        "        v_w_prev = v_w\n",
        "        v_b_prev = v_b\n",
        "        self.append_log()\n",
        "\n",
        "    elif self.algo == 'MiniBatch':\n",
        "      for i in range(epochs):\n",
        "        dw, db = 0,0\n",
        "        points_seen = 0\n",
        "        for x, y in zip(X, Y):\n",
        "          dw += self.grad_w(x, y)\n",
        "          db += self.grad_b(x, y)\n",
        "          points_seen+=1\n",
        "        if(points_seen % mini_batch_size == 0):\n",
        "          self.w -= eta * dw / X.shape[0]\n",
        "          self.b -= eta * db / X.shape[0]\n",
        "          self.append_log()\n",
        "          dw, db = 0, 0\n",
        "\n",
        "    elif self.algo == 'AdaGrad':\n",
        "      v_w, v_b = 0, 0\n",
        "      for i in range(epochs):\n",
        "        dw, db = 0, 0\n",
        "        for x, y in zip(X, Y):\n",
        "          dw += self.grad_w(x, y)\n",
        "          db += self.grad_b(x, y)\n",
        "        \n",
        "        v_w += dw**2\n",
        "        v_b += db**2\n",
        "        \n",
        "        self.w -= (eta / np.sqrt(v_w) + eps) * dw\n",
        "        self.b -= (eta / np.sqrt(v_b) + eps) * db\n",
        "        self.append_log()\n",
        "\n",
        "    elif self.algo == 'RMSProp':\n",
        "      v_w, v_b = 0, 0\n",
        "      for i in range(epochs):\n",
        "        dw, db = 0, 0\n",
        "        for x, y in zip(X, Y):\n",
        "          dw += self.grad_w(x, y)\n",
        "          db += self.grad_b(x, y)\n",
        "        \n",
        "        v_w += beta * v_w + (1 - beta) * dw**2\n",
        "        v_b += beta * v_b + (1 - beta) * db**2\n",
        "        \n",
        "        self.w -= (eta / np.sqrt(v_w) + eps) * dw\n",
        "        self.b -= (eta / np.sqrt(v_b) + eps) * db\n",
        "        self.append_log()\n",
        "\n",
        "    elif self.algo == 'Adam':\n",
        "      v_w, v_b = 0, 0\n",
        "      m_w, m_b = 0, 0\n",
        "      num_updates = 0\n",
        "      for i in range(epochs):\n",
        "        dw, db = 0, 0\n",
        "        for x, y in zip(X, Y):\n",
        "          dw += self.grad_w(x, y)\n",
        "          db += self.grad_b(x, y)\n",
        "          num_update += 1\n",
        "          m_w = beta1 * m_w + (1- beta1) * dw\n",
        "          m_b = beta1 * m_b + (1- beta1) * db \n",
        "          v_w = beta2 * v_w + (1 - beta2) * dw**2\n",
        "          v_b = beta2 * v_b + (1 - beta2) * db**2\n",
        "          m_w_c = m_w / (1- np.power(beta1, num_updates))\n",
        "          m_w_b = m_b / (1- np.power(beta1, num_updates))\n",
        "          v_w_c = v_w / (1- np.power(beta2, num_updates))\n",
        "          v_w_c = v_w / (1- np.power(beta2, num_updates))\n",
        "          self.w -= (eta / np.sqrt(v_w_c) + eps) * m_w_c\n",
        "          self.b -= (eta / np.sqrt(v_b_c) + eps) * m_b_c\n",
        "          self.append_log()\n",
        "\n",
        "  def append_log(self):\n",
        "    self.w_h.append(self.w)\n",
        "    self.b_h.append(self.b)\n",
        "    self.e_h.append(self.error(self.X, self.Y))   \n",
        "\n",
        "  "
      ],
      "execution_count": null,
      "outputs": []
    },
    {
      "cell_type": "markdown",
      "metadata": {
        "id": "8xvUXxuXFdFg",
        "colab_type": "text"
      },
      "source": [
        "# Data, algo and Hyperparameter tuning"
      ]
    },
    {
      "cell_type": "code",
      "metadata": {
        "id": "Wec08JFSEj--",
        "colab_type": "code",
        "colab": {}
      },
      "source": [
        "X = np.asarray([0.5, 0.25])\n",
        "Y = np.asarray([0.2, 0.9])\n",
        "\n",
        "algo = 'GD'\n",
        "\n",
        "w_init = -2\n",
        "b_init = -2\n",
        "\n",
        "epochs =1000\n",
        "eta =1\n",
        "\n",
        "w_min =-7\n",
        "w_max = 5\n",
        "\n",
        "b_min = -5\n",
        "b_max = 5\n",
        "\n",
        "animation_frames = 20\n",
        "plot_3d = True\n",
        "plot_2d = False"
      ],
      "execution_count": null,
      "outputs": []
    },
    {
      "cell_type": "code",
      "metadata": {
        "id": "8WfcKM1oFWLs",
        "colab_type": "code",
        "colab": {
          "base_uri": "https://localhost:8080/",
          "height": 265
        },
        "outputId": "4b0dda78-bc2b-4b2b-9661-7d1a8123433b"
      },
      "source": [
        "sn = SN(w_init, b_init, algo)\n",
        "sn.fit(X, Y, epochs=epochs, eta=eta)\n",
        "plt.plot(sn.e_h, 'r')\n",
        "plt.plot(sn.w_h, 'b')\n",
        "plt.plot(sn.b_h, 'g')\n",
        "plt.show()"
      ],
      "execution_count": null,
      "outputs": [
        {
          "output_type": "display_data",
          "data": {
            "image/png": "[encoded data removed]",
            "text/plain": [
              "<Figure size 432x288 with 1 Axes>"
            ]
          },
          "metadata": {
            "tags": [],
            "needs_background": "light"
          }
        }
      ]
    }
  ]
}